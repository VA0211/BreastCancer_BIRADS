{
 "cells": [
  {
   "cell_type": "code",
   "execution_count": null,
   "metadata": {},
   "outputs": [],
   "source": [
    "import numpy as np\n",
    "import pandas as pd\n",
    "import seaborn as sns\n",
    "import matplotlib.pyplot as plt\n",
    "from sklearn.model_selection import train_test_split\n",
    "from sklearn.metrics import confusion_matrix, classification_report\n",
    "import scikitplot\n",
    "\n",
    "import tensorflow as tf\n",
    "from tensorflow.keras.models import Sequential\n",
    "from tensorflow.keras.optimizers import Adam, Adamax\n",
    "from tensorflow.keras.preprocessing.image import ImageDataGenerator\n",
    "from tensorflow.keras.layers import Conv2D, MaxPooling2D, Flatten, Dense, Activation, Dropout, BatchNormalization\n",
    "from tensorflow.keras import regularizers\n",
    "\n",
    "from modules import f1_metric"
   ]
  },
  {
   "cell_type": "markdown",
   "metadata": {},
   "source": [
    "### **Read test data**"
   ]
  },
  {
   "cell_type": "code",
   "execution_count": null,
   "metadata": {},
   "outputs": [],
   "source": [
    "df = pd.read_csv(\"E:/vindr_mammo/Data/full_df.csv\")\n",
    "df['image_path'] = 'E:/vindr_mammo/Data/png/' + df['study_id'] + '/' + df['image_id'] + '.png'\n",
    "df['label'] = df['breast_birads'].map({'BI-RADS 1': '0',\n",
    "                                       'BI-RADS 2': '0',\n",
    "                                       'BI-RADS 3': '1',\n",
    "                                       'BI-RADS 4': '1',\n",
    "                                       'BI-RADS 5': '1'})\n",
    "train_df = df[df['split'] == 'training']\n",
    "tmp_test_df = df[df['split'] == 'test']\n",
    "test_df, val_df = train_test_split(tmp_test_df, test_size=0.5, stratify=tmp_test_df['label'], random_state=42)\n",
    "\n",
    "\n",
    "ts_length = len(test_df)\n",
    "test_batch_size = max(sorted([ts_length // n for n in range(1, ts_length + 1) if ts_length%n == 0 and ts_length/n <= 80]))\n",
    "\n",
    "ts_gen = ImageDataGenerator()\n",
    "test_gen = ts_gen.flow_from_dataframe(test_df, x_col= 'image_path', y_col= 'label', target_size=(224, 224), class_mode= 'categorical',\n",
    "                                        color_mode='rgb', shuffle= False, batch_size= test_batch_size)\n"
   ]
  },
  {
   "cell_type": "markdown",
   "metadata": {},
   "source": [
    "### **Load model weight**"
   ]
  },
  {
   "cell_type": "code",
   "execution_count": null,
   "metadata": {},
   "outputs": [],
   "source": [
    "# Create Model Structure\n",
    "img_size = (224, 224)\n",
    "channels = 3\n",
    "img_shape = (img_size[0], img_size[1], channels)\n",
    "\n",
    "base_model = tf.keras.applications.efficientnet.EfficientNetB0(include_top=False,\n",
    "                                                               weights=\"imagenet\",\n",
    "                                                               input_shape=img_shape, pooling='max')\n",
    "\n",
    "\n",
    "model = Sequential([\n",
    "    base_model,\n",
    "    BatchNormalization(axis=-1, momentum=0.99, epsilon=0.001),\n",
    "    Dense(512, kernel_regularizer=regularizers.l2(l= 0.016),\n",
    "               activity_regularizer=regularizers.l1(0.006),\n",
    "               bias_regularizer=regularizers.l1(0.006), activation='relu'),\n",
    "    Dropout(rate=0.5, seed= 123),\n",
    "    Dense(2, activation= 'softmax')])\n",
    "\n",
    "model.load_weights('./output/best/model_weights.h5')\n",
    "\n",
    "model.compile(Adamax(learning_rate= 0.001),\n",
    "              loss='categorical_crossentropy',\n",
    "              metrics= [tf.keras.metrics.FalseNegatives(name='FN'),\n",
    "                        tf.keras.metrics.Recall(name='recall'),\n",
    "                        tf.keras.metrics.AUC(curve='PR', name='pr_auc'),\n",
    "                        f1_metric.F1Score(),\n",
    "                        'accuracy'])"
   ]
  },
  {
   "cell_type": "code",
   "execution_count": null,
   "metadata": {},
   "outputs": [],
   "source": [
    "preds = model.predict(test_gen)\n",
    "y_pred = np.argmax(preds, axis=1)\n",
    "print(y_pred)"
   ]
  },
  {
   "cell_type": "code",
   "execution_count": null,
   "metadata": {},
   "outputs": [],
   "source": [
    "# Save model predction to csv\n",
    "y_true = test_gen.classes\n",
    "# Get filenames from the test generator\n",
    "filenames = test_gen.filenames\n",
    "\n",
    "# Create a DataFrame with predictions and true labels\n",
    "results = pd.DataFrame({\n",
    "    \"img_path\": filenames,\n",
    "    \"true_class\": y_true,\n",
    "    \"predicted\": y_pred\n",
    "})\n",
    "\n",
    "# Save the DataFrame to a CSV file\n",
    "results.to_csv(\"./output/best/prediction_result.csv\", index=False)\n",
    "results"
   ]
  },
  {
   "cell_type": "code",
   "execution_count": null,
   "metadata": {},
   "outputs": [],
   "source": [
    "from sklearn.metrics import precision_score, recall_score, f1_score\n",
    "\n",
    "print(\"F1 Score: {}\".format(f1_score(y_true,y_pred)))\n",
    "print(\"Recall score: {}\".format(recall_score(y_true,y_pred)))\n",
    "print(\"Precision score: {}\".format(precision_score(y_true,y_pred)))\n",
    "\n",
    "# Extract values from confusion matrix\n",
    "tn, fp, fn, tp = confusion_matrix(y_true, y_pred).ravel()\n",
    "\n",
    "# Calculate Sensitivity and Specificity\n",
    "sensitivity = tp / (tp + fn)\n",
    "specificity = tn / (tn + fp)\n",
    "\n",
    "# Print the results\n",
    "print(f\"Sensitivity (True Positive Rate): {sensitivity:.4f}\")\n",
    "print(f\"Specificity (True Negative Rate): {specificity:.4f}\")"
   ]
  },
  {
   "cell_type": "code",
   "execution_count": null,
   "metadata": {},
   "outputs": [],
   "source": [
    "g_dict = test_gen.class_indices\n",
    "classes = list(g_dict.keys())\n",
    "\n",
    "# Classification report\n",
    "print(classification_report(test_gen.classes, y_pred, target_names=classes))\n",
    "scikitplot.metrics.plot_confusion_matrix(y_true, y_pred, normalize=True)"
   ]
  },
  {
   "cell_type": "code",
   "execution_count": null,
   "metadata": {},
   "outputs": [],
   "source": [
    "scikitplot.metrics.plot_confusion_matrix(y_true, y_pred, normalize=False)"
   ]
  },
  {
   "cell_type": "code",
   "execution_count": null,
   "metadata": {},
   "outputs": [],
   "source": [
    "scikitplot.metrics.plot_precision_recall(y_true, preds)"
   ]
  }
 ],
 "metadata": {
  "language_info": {
   "name": "python"
  }
 },
 "nbformat": 4,
 "nbformat_minor": 2
}
